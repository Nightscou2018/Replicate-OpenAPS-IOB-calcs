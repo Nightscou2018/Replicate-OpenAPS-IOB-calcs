{
 "cells": [
  {
   "cell_type": "markdown",
   "metadata": {},
   "source": [
    "# OpenAPS IOB Calculations\n",
    "----\n",
    "The code in this notebook will replicate and visualize the IOB calculations used in the [OpenAPS project](https://github.com/openaps/oref0).\n",
    "\n",
    "Specifically, it will replicate the javascript code found in [`OpenAPS/oref0/lib/iob/calculation.js`](https://github.com/openaps/oref0/blob/master/lib/iob/calculate.js) and plot insulin action curves for a set of Duration of Insulin Activity (`dia`) values.\n"
   ]
  },
  {
   "cell_type": "code",
   "execution_count": null,
   "metadata": {
    "collapsed": true
   },
   "outputs": [],
   "source": [
    "import pandas as pd"
   ]
  },
  {
   "cell_type": "code",
   "execution_count": 6,
   "metadata": {
    "collapsed": false
   },
   "outputs": [],
   "source": [
    "# Coefficients used in estimating the percent of insulin remaining, or (alternatively) the insulin action/decay curve.\n",
    "# Coeff[0] = alpha * 1\n",
    "# Coeff[1] = beta1 * x^2\n",
    "# Coeff[2] = beta2 * x\n",
    "insulin_action_coeffs = [[1.000000, -0.001852, 0.001852],\n",
    "                         [0.555560, 0.001323, -0.054233]]"
   ]
  },
  {
   "cell_type": "code",
   "execution_count": 2,
   "metadata": {
    "collapsed": true
   },
   "outputs": [],
   "source": [
    "# Set default parameteters for curves based on a 3 hour Duration of Insulin Activity (dia)\n",
    "dia = 3 # hours\n",
    "peak = 75 # minutes\n",
    "end = 180 # minutes"
   ]
  },
  {
   "cell_type": "code",
   "execution_count": 20,
   "metadata": {
    "collapsed": false
   },
   "outputs": [],
   "source": [
    "def calc_IOB(peak, end):\n",
    "    \n",
    "    iob = []\n",
    "    \n",
    "    for i_min in range(0,20):\n",
    "    \n",
    "        if (i_min < peak):\n",
    "            iob_pct = insulin_action_coeffs[0][0] + insulin_action_coeffs[0][1] * i_min**2 + insulin_action_coeffs[0][2] * i_min\n",
    "        elif (i_min < end):\n",
    "            iob_pct = insulin_action_coeffs[1][0] + insulin_action_coeffs[1][1] * i_min**2 + insulin_action_coeffs[1][2] * i_min\n",
    "    \n",
    "        iob.append(iob_pct)\n",
    "    \n",
    "    return iob   "
   ]
  },
  {
   "cell_type": "code",
   "execution_count": 21,
   "metadata": {
    "collapsed": false
   },
   "outputs": [
    {
     "name": "stdout",
     "output_type": "stream",
     "text": [
      "1.0\n",
      "1.0\n",
      "0.9962960000000001\n",
      "0.988888\n",
      "0.977776\n",
      "0.96296\n",
      "0.9444400000000001\n",
      "0.9222159999999999\n",
      "0.8962880000000001\n",
      "0.866656\n",
      "0.83332\n",
      "0.79628\n",
      "0.755536\n",
      "0.7110879999999999\n",
      "0.662936\n",
      "0.6110800000000001\n",
      "0.55552\n",
      "0.4962560000000001\n",
      "0.43328799999999995\n",
      "0.36661600000000005\n"
     ]
    },
    {
     "data": {
      "text/plain": [
       "[1.0,\n",
       " 1.0,\n",
       " 0.9962960000000001,\n",
       " 0.988888,\n",
       " 0.977776,\n",
       " 0.96296,\n",
       " 0.9444400000000001,\n",
       " 0.9222159999999999,\n",
       " 0.8962880000000001,\n",
       " 0.866656,\n",
       " 0.83332,\n",
       " 0.79628,\n",
       " 0.755536,\n",
       " 0.7110879999999999,\n",
       " 0.662936,\n",
       " 0.6110800000000001,\n",
       " 0.55552,\n",
       " 0.4962560000000001,\n",
       " 0.43328799999999995,\n",
       " 0.36661600000000005]"
      ]
     },
     "execution_count": 21,
     "metadata": {},
     "output_type": "execute_result"
    }
   ],
   "source": [
    "calc_IOB(peak, end)"
   ]
  },
  {
   "cell_type": "code",
   "execution_count": null,
   "metadata": {
    "collapsed": true
   },
   "outputs": [],
   "source": []
  },
  {
   "cell_type": "code",
   "execution_count": null,
   "metadata": {
    "collapsed": true
   },
   "outputs": [],
   "source": []
  }
 ],
 "metadata": {
  "kernelspec": {
   "display_name": "Python 3",
   "language": "python",
   "name": "python3"
  },
  "language_info": {
   "codemirror_mode": {
    "name": "ipython",
    "version": 3
   },
   "file_extension": ".py",
   "mimetype": "text/x-python",
   "name": "python",
   "nbconvert_exporter": "python",
   "pygments_lexer": "ipython3",
   "version": "3.5.1"
  }
 },
 "nbformat": 4,
 "nbformat_minor": 0
}
