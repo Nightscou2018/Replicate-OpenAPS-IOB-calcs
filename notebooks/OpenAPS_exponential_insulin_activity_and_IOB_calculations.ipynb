{
 "cells": [
  {
   "cell_type": "markdown",
   "metadata": {},
   "source": [
    "# OpenAPS Exponential Insulin Activity and IOB Calculations\n",
    "----\n",
    "This notebook will replicate and visualize the calculation of insulin `activity` and `iob` used in the development branch for the next official release in the [OpenAPS project](https://github.com/openaps/oref0).\n",
    "\n",
    "Specifically, it will replicate the javascript code found in [oref0/lib/iob/calculate.js](https://github.com/openaps/oref0/blob/dev/lib/iob/calculate.js) and plot the insulin `activity` curves and `iob` curves for a set of `dia` and `peak` values.\n",
    "\n",
    "### First, some definitions:\n",
    "* **dia:** Duration of Insulin Activity. This is the user specified time (in hours) that insulin lasts in their body after a bolus. This value comes from the user's pump settings. \n",
    "\n",
    "\n",
    "* **end:** Duration (in minutes) that insulin is active. `end` = `dia` * 60.\n",
    "\n",
    "\n",
    "* **peak:** Duration (in minutes) when insulin action it's peak activity level.\n",
    "\n",
    "\n",
    "* **activity:** The percentage of insulin that was active in the previous minute. \n",
    "\n",
    "    **Note:** The neither the code in the [master branch version of oref0/lib/iob/calculation.js](https://github.com/openaps/oref0/blob/master/lib/iob/calculate.js) or the code in the [dev branch version of oref0/lib/iob/calculation.js](https://github.com/openaps/oref0/blob/dev/lib/iob/calculate.js) calculates a variable called `activity`. Instead, it calculates a variable called `activityContrib`, which is I've broken into its two components: `activity` and `treatment.insulin`. I analyze `activity`, which is just the scaling factor applied to `treatment.insulin`.\n"
   ]
  },
  {
   "cell_type": "code",
   "execution_count": 1,
   "metadata": {
    "collapsed": false
   },
   "outputs": [],
   "source": [
    "import pandas as pd\n",
    "import numpy as np\n",
    "import math as Math\n",
    "import matplotlib.pyplot as plt\n",
    "%matplotlib inline"
   ]
  },
  {
   "cell_type": "code",
   "execution_count": 2,
   "metadata": {
    "collapsed": false
   },
   "outputs": [],
   "source": [
    "def calc_exp_activity(minutes_to_peak):\n",
    "    \n",
    "    minutes_to_end = 300 # minutes\n",
    "    \n",
    "    peak_to_end = float(minutes_to_peak) / float(minutes_to_end)\n",
    "    \n",
    "    tau = (1.0 * minutes_to_peak) * (1 - peak_to_end) / (1 - 2 * peak_to_end)\n",
    "    a = 2 * tau / (1.0 * minutes_to_end);\n",
    "    S = 1 / (1 - a + (1 + a) * Math.exp(-(1.0 * minutes_to_end) / tau));\n",
    "    \n",
    "    \n",
    "    #print peak_to_end\n",
    "    #print tau\n",
    "    #print a\n",
    "    #print S\n",
    "    \n",
    "    x_list = []\n",
    "    activity_list = [] \n",
    "    iob_list = []\n",
    "    \n",
    "    for i_min in range(0, minutes_to_end + 1):  # Add 1 to get plot at the last minute\n",
    "                \n",
    "        if (i_min < minutes_to_end + 1):   # Add 1 to get plot at the last minute\n",
    "            x_list.append(i_min)\n",
    "            \n",
    "            activity = (S / Math.pow(tau, 2)) * i_min * (1 - i_min / (float(minutes_to_end))) * Math.exp(-i_min / tau)\n",
    "            activity_list.append(activity)\n",
    "            \n",
    "            iob = (1 - S * (1 - a) * ((Math.pow(i_min, 2) / (tau * minutes_to_end * (1 - a)) - i_min / tau - 1) * Math.exp(-i_min / tau) + 1))\n",
    "            iob_list.append(iob)\n",
    "            \n",
    "    return x_list, activity_list, iob_list"
   ]
  },
  {
   "cell_type": "code",
   "execution_count": 3,
   "metadata": {
    "collapsed": false
   },
   "outputs": [],
   "source": [
    "# Create a dictionary of DataFrames -- one for each value of DIA between 2 and 8\n",
    "dict_of_dfs_by_peak = {}\n",
    "\n",
    "for peak in range(60, 130, 5):                           # Note: range() ends at n-1\n",
    "    x_list, activity_list, iob_list = calc_exp_activity(peak)\n",
    "    activity_df = pd.DataFrame({'x' : x_list, 'activity_peak_' + str(peak) : activity_list, 'iob_peak_' + str(peak) : iob_list})\n",
    "    \n",
    "    # Add a cummulative sum column for activity\n",
    "    activity_df['cum_activity_peak_' + str(peak)] = activity_df['activity_peak_' + str(peak)].cumsum()\n",
    "   \n",
    "    # Put df into a dictionary with dia as the key\n",
    "    dict_of_dfs_by_peak.update({peak : activity_df})"
   ]
  },
  {
   "cell_type": "code",
   "execution_count": 4,
   "metadata": {
    "collapsed": false
   },
   "outputs": [
    {
     "data": {
      "text/html": [
       "<div>\n",
       "<table border=\"1\" class=\"dataframe\">\n",
       "  <thead>\n",
       "    <tr style=\"text-align: right;\">\n",
       "      <th></th>\n",
       "      <th>activity_peak_75</th>\n",
       "      <th>iob_peak_75</th>\n",
       "      <th>x</th>\n",
       "      <th>cum_activity_peak_75</th>\n",
       "    </tr>\n",
       "  </thead>\n",
       "  <tbody>\n",
       "    <tr>\n",
       "      <th>0</th>\n",
       "      <td>0.000000</td>\n",
       "      <td>1.000000</td>\n",
       "      <td>0</td>\n",
       "      <td>0.000000</td>\n",
       "    </tr>\n",
       "    <tr>\n",
       "      <th>1</th>\n",
       "      <td>0.000210</td>\n",
       "      <td>0.999895</td>\n",
       "      <td>1</td>\n",
       "      <td>0.000210</td>\n",
       "    </tr>\n",
       "    <tr>\n",
       "      <th>2</th>\n",
       "      <td>0.000415</td>\n",
       "      <td>0.999582</td>\n",
       "      <td>2</td>\n",
       "      <td>0.000625</td>\n",
       "    </tr>\n",
       "    <tr>\n",
       "      <th>3</th>\n",
       "      <td>0.000615</td>\n",
       "      <td>0.999066</td>\n",
       "      <td>3</td>\n",
       "      <td>0.001240</td>\n",
       "    </tr>\n",
       "    <tr>\n",
       "      <th>4</th>\n",
       "      <td>0.000810</td>\n",
       "      <td>0.998353</td>\n",
       "      <td>4</td>\n",
       "      <td>0.002050</td>\n",
       "    </tr>\n",
       "  </tbody>\n",
       "</table>\n",
       "</div>"
      ],
      "text/plain": [
       "   activity_peak_75  iob_peak_75  x  cum_activity_peak_75\n",
       "0          0.000000     1.000000  0              0.000000\n",
       "1          0.000210     0.999895  1              0.000210\n",
       "2          0.000415     0.999582  2              0.000625\n",
       "3          0.000615     0.999066  3              0.001240\n",
       "4          0.000810     0.998353  4              0.002050"
      ]
     },
     "execution_count": 4,
     "metadata": {},
     "output_type": "execute_result"
    }
   ],
   "source": [
    "dict_of_dfs_by_peak[75].head()"
   ]
  },
  {
   "cell_type": "code",
   "execution_count": 5,
   "metadata": {
    "collapsed": false
   },
   "outputs": [
    {
     "data": {
      "text/html": [
       "<div>\n",
       "<table border=\"1\" class=\"dataframe\">\n",
       "  <thead>\n",
       "    <tr style=\"text-align: right;\">\n",
       "      <th></th>\n",
       "      <th>activity_peak_75</th>\n",
       "      <th>iob_peak_75</th>\n",
       "      <th>x</th>\n",
       "      <th>cum_activity_peak_75</th>\n",
       "    </tr>\n",
       "  </thead>\n",
       "  <tbody>\n",
       "    <tr>\n",
       "      <th>296</th>\n",
       "      <td>0.000060</td>\n",
       "      <td>1.199543e-04</td>\n",
       "      <td>296</td>\n",
       "      <td>0.999891</td>\n",
       "    </tr>\n",
       "    <tr>\n",
       "      <th>297</th>\n",
       "      <td>0.000045</td>\n",
       "      <td>6.722575e-05</td>\n",
       "      <td>297</td>\n",
       "      <td>0.999936</td>\n",
       "    </tr>\n",
       "    <tr>\n",
       "      <th>298</th>\n",
       "      <td>0.000030</td>\n",
       "      <td>2.976795e-05</td>\n",
       "      <td>298</td>\n",
       "      <td>0.999966</td>\n",
       "    </tr>\n",
       "    <tr>\n",
       "      <th>299</th>\n",
       "      <td>0.000015</td>\n",
       "      <td>7.414518e-06</td>\n",
       "      <td>299</td>\n",
       "      <td>0.999981</td>\n",
       "    </tr>\n",
       "    <tr>\n",
       "      <th>300</th>\n",
       "      <td>0.000000</td>\n",
       "      <td>1.110223e-16</td>\n",
       "      <td>300</td>\n",
       "      <td>0.999981</td>\n",
       "    </tr>\n",
       "  </tbody>\n",
       "</table>\n",
       "</div>"
      ],
      "text/plain": [
       "     activity_peak_75   iob_peak_75    x  cum_activity_peak_75\n",
       "296          0.000060  1.199543e-04  296              0.999891\n",
       "297          0.000045  6.722575e-05  297              0.999936\n",
       "298          0.000030  2.976795e-05  298              0.999966\n",
       "299          0.000015  7.414518e-06  299              0.999981\n",
       "300          0.000000  1.110223e-16  300              0.999981"
      ]
     },
     "execution_count": 5,
     "metadata": {},
     "output_type": "execute_result"
    }
   ],
   "source": [
    "dict_of_dfs_by_peak[75].tail()"
   ]
  },
  {
   "cell_type": "code",
   "execution_count": 6,
   "metadata": {
    "collapsed": false
   },
   "outputs": [
    {
     "data": {
      "text/html": [
       "<div>\n",
       "<table border=\"1\" class=\"dataframe\">\n",
       "  <thead>\n",
       "    <tr style=\"text-align: right;\">\n",
       "      <th></th>\n",
       "      <th>activity_peak_75</th>\n",
       "      <th>iob_peak_75</th>\n",
       "      <th>x</th>\n",
       "      <th>cum_activity_peak_75</th>\n",
       "    </tr>\n",
       "  </thead>\n",
       "  <tbody>\n",
       "    <tr>\n",
       "      <th>74</th>\n",
       "      <td>0.006140</td>\n",
       "      <td>0.678780</td>\n",
       "      <td>74</td>\n",
       "      <td>0.324272</td>\n",
       "    </tr>\n",
       "    <tr>\n",
       "      <th>75</th>\n",
       "      <td>0.006141</td>\n",
       "      <td>0.672640</td>\n",
       "      <td>75</td>\n",
       "      <td>0.330413</td>\n",
       "    </tr>\n",
       "    <tr>\n",
       "      <th>76</th>\n",
       "      <td>0.006140</td>\n",
       "      <td>0.666499</td>\n",
       "      <td>76</td>\n",
       "      <td>0.336553</td>\n",
       "    </tr>\n",
       "  </tbody>\n",
       "</table>\n",
       "</div>"
      ],
      "text/plain": [
       "    activity_peak_75  iob_peak_75   x  cum_activity_peak_75\n",
       "74          0.006140     0.678780  74              0.324272\n",
       "75          0.006141     0.672640  75              0.330413\n",
       "76          0.006140     0.666499  76              0.336553"
      ]
     },
     "execution_count": 6,
     "metadata": {},
     "output_type": "execute_result"
    }
   ],
   "source": [
    "# Peak activity \n",
    "dict_of_dfs_by_peak[75].iloc[74:77, :]"
   ]
  },
  {
   "cell_type": "markdown",
   "metadata": {},
   "source": [
    "## Plot the Activity Curves!"
   ]
  },
  {
   "cell_type": "code",
   "execution_count": 7,
   "metadata": {
    "collapsed": false
   },
   "outputs": [
    {
     "data": {
      "image/png": "[encoded data removed]",
      "text/plain": [
       "<matplotlib.figure.Figure at 0x8d29eb8>"
      ]
     },
     "metadata": {},
     "output_type": "display_data"
    }
   ],
   "source": [
    "# Plot activity curve for just (peak == 75)\n",
    "plt.figure(figsize=(8, 5))\n",
    "plt.ylabel('Percent of\\nInsulin Used Each Minute', fontsize=12)\n",
    "plt.xlabel('Minutes', fontsize=12)\n",
    "plt.suptitle('OpenAPS Exponential \"activity\" curve, DIA=5, peak=75', fontsize=14, fontweight='bold')\n",
    "\n",
    "markers = [75]\n",
    "\n",
    "act_75_pct = dict_of_dfs_by_peak[75]['activity_peak_75'] * 100\n",
    "act_75_pct.plot(kind='line', \n",
    "                label='peak=75', \n",
    "                color='#fc8d62', \n",
    "                linewidth=2,\n",
    "                marker='D', \n",
    "                markevery=markers).grid(True)\n",
    "\n",
    "plt.text(75, 0.65, 'At peak activity (between the 74th and 75th minutes),\\n0.61 percent of insulin is used up.', fontsize=11)\n",
    "#plt.text(140, 0.54, 'At two hours (between the 119th and 120th minutes),\\n 0.62 percent of insulin is used up.', fontsize=11)\n",
    "\n",
    "plt.tick_params(axis='both', top='off', right='off', direction='out', pad=5, width=1)\n",
    "\n",
    "plt.xlim([0,500])\n",
    "plt.ylim([0,1.0])\n",
    "\n",
    "#plt.legend(bbox_to_anchor=(0.95, 0.95), loc=1, borderaxespad=0.0)\n",
    "\n",
    "plt.savefig('..\\output\\OpenAPS_exponential_activity_curve_dia_5_peak_75.png', format='png', dpi=600)\n",
    "\n",
    "plt.show()"
   ]
  },
  {
   "cell_type": "code",
   "execution_count": null,
   "metadata": {
    "collapsed": false
   },
   "outputs": [],
   "source": [
    "# Plot activity AREA UNDER curve \n",
    "plt.figure(figsize=(8, 5))\n",
    "plt.ylabel('Percent of\\nInsulin Used Each Minute', fontsize=12)\n",
    "plt.xlabel('Minutes', fontsize=12)\n",
    "plt.suptitle('OpenAPS Exponential \"activity\", DIA=5, peak=75', fontsize=14, fontweight='bold')\n",
    "\n",
    "# Create df with data in percentages\n",
    "act_peak_75 = dict_of_dfs_by_peak[75]['activity_peak_75'] * 100 \n",
    "\n",
    "ax_line = act_peak_75.plot(kind='line', \n",
    "                           label='DIA=5', \n",
    "                           color='#fc8d62', \n",
    "                           linewidth=2,).grid(True)\n",
    "ax_bar = act_peak_75.plot(kind='bar', \n",
    "                          edgecolor=\"none\", \n",
    "                          width=1, \n",
    "                          label='Area under \"curve\"', \n",
    "                          color='#fc8d62').grid(True)\n",
    "\n",
    "plt.text(150, 0.65, 'Area under \"curve\" equals 100 percent.' , fontsize=11)\n",
    "plt.tick_params(axis='both', top='off', right='off', direction='out', pad=5, width=1)\n",
    "\n",
    "plt.xlim([0,500])\n",
    "plt.xticks(np.arange(0,501,100), ('0', '100', '200', '300', '400', '500'), rotation='horizontal')\n",
    "plt.ylim([0,1.0])\n",
    "\n",
    "#plt.legend(bbox_to_anchor=(0.95, 0.95), loc=1, borderaxespad=0.0)\n",
    "\n",
    "plt.savefig('..\\output\\OpenAPS_exponential_activity_curve_dia_5_peak_75_area.png', format='png', dpi=600)\n",
    "\n",
    "plt.show()"
   ]
  },
  {
   "cell_type": "code",
   "execution_count": null,
   "metadata": {
    "collapsed": false
   },
   "outputs": [],
   "source": [
    "# Plot activity curve for dia = 5, peak = [60, 75, 90]\n",
    "plt.figure(figsize=(8, 5))\n",
    "plt.ylabel('Percent of\\nInsulin Used Each Minute', fontsize=12)\n",
    "plt.xlabel('Minutes', fontsize=12)\n",
    "plt.suptitle('OpenAPS Exponential \"activity\" Curves, DIA=5', fontsize=14, fontweight='bold')\n",
    "\n",
    "#colors = {60:'#d1b26f', 75:'#653700', 90:'#6e750e'}\n",
    "#colors = {60:'#b3e2cd',75:'#fdcdac',90:'#cbd5e8'}\n",
    "colors = {60:'#66c2a5',75:'#fc8d62',90:'#8da0cb'}\n",
    "\n",
    "for peak in [60, 75, 90]:\n",
    "    peak_str = str(peak)\n",
    "    (dict_of_dfs_by_peak[peak]['activity_peak_' + peak_str]*100).plot(kind='line', \n",
    "                                                                      color=colors[peak], \n",
    "                                                                      linewidth=2, \n",
    "                                                                      label='peak=' + peak_str).grid(True)\n",
    "\n",
    "plt.tick_params(axis='both', top='off', right='off', direction='out', pad=5, width=1)    \n",
    "    \n",
    "plt.xlim([0,500])\n",
    "plt.ylim([0,1.0])\n",
    "\n",
    "plt.legend(bbox_to_anchor=(0.95, 0.95), loc=1, borderaxespad=0.)\n",
    "\n",
    "plt.savefig('..\\output\\OpenAPS_exponential_activity_curves_dia_5_peak_60_75_90.png', format='png', dpi=600)\n",
    "\n",
    "plt.show()  "
   ]
  },
  {
   "cell_type": "markdown",
   "metadata": {},
   "source": [
    "## Plot the Cumulative Activity Curves!"
   ]
  },
  {
   "cell_type": "code",
   "execution_count": null,
   "metadata": {
    "collapsed": false
   },
   "outputs": [],
   "source": [
    "# Plot cumulative activity curves for dia = 5, peak = [60, 75, 90]\n",
    "plt.figure(figsize=(8, 5))\n",
    "plt.ylabel('Cummulative Percent of\\nInsulin Used Each Minute', fontsize=12)\n",
    "plt.xlabel('Minutes', fontsize=12)\n",
    "plt.suptitle('OpenAPS Cummulative \"activity,\" Based on Exponential \"activity\" curves, DIA=5', fontsize=14, fontweight='bold')\n",
    "\n",
    "colors = {60:'#66c2a5',75:'#fc8d62',90:'#8da0cb'}\n",
    "\n",
    "for peak in [60, 75, 90]:\n",
    "    peak_str = str(peak)\n",
    "    (dict_of_dfs_by_peak[peak]['cum_activity_peak_' + peak_str]*100).plot(kind='line', \n",
    "                                                                          color=colors[peak], \n",
    "                                                                          linewidth=2, \n",
    "                                                                          label='peak=' + peak_str).grid(True)\n",
    "    \n",
    "    \n",
    "plt.tick_params(axis='both', top='off', right='off', direction='out', pad=5, width=1)\n",
    "    \n",
    "plt.xlim([0,500])\n",
    "plt.ylim([0,100])\n",
    "    \n",
    "plt.legend(bbox_to_anchor=(0.95, 0.05), loc=4, borderaxespad=0.)\n",
    "\n",
    "plt.savefig('..\\output\\OpenAPS_exponential_cum_activity_curves_dia_5_peak_60_75_90.png', format='png', dpi=600)\n",
    "\n",
    "plt.show()  "
   ]
  },
  {
   "cell_type": "code",
   "execution_count": null,
   "metadata": {
    "collapsed": false
   },
   "outputs": [],
   "source": [
    "# Plot iob curves for dia = 5, peak = [60, 75, 90]\n",
    "plt.figure(figsize=(8, 5))\n",
    "plt.ylabel('Percent of\\nInsulin Remaining', fontsize=12)\n",
    "plt.xlabel('Minutes', fontsize=12)\n",
    "plt.suptitle('OpenAPS IOB Curves, Based on Exponential Activity Curves, DIA=5', fontsize=14, fontweight='bold')\n",
    "\n",
    "colors = {60:'#66c2a5',75:'#fc8d62',90:'#8da0cb'}\n",
    "\n",
    "for peak in [60, 75, 90]:\n",
    "    peak_str = str(peak)\n",
    "    (dict_of_dfs_by_peak[peak]['iob_peak_' + peak_str]*100).plot(kind='line', \n",
    "                                                                 color=colors[peak],\n",
    "                                                                 linewidth=2,\n",
    "                                                                 label='peak=' + peak_str).grid(True)\n",
    "\n",
    "    \n",
    "plt.tick_params(axis='both', top='off', right='off', direction='out', pad=5, width=1)\n",
    "    \n",
    "plt.xlim([0,500])\n",
    "plt.ylim([0,100])\n",
    "    \n",
    "plt.legend(bbox_to_anchor=(0.95, 0.05), loc=4, borderaxespad=0.)\n",
    "\n",
    "plt.savefig('..\\output\\OpenAPS_exponential_iob_curves_dia_5_peak_60_75_90.png', format='png', dpi=600)\n",
    "\n",
    "plt.show()  "
   ]
  },
  {
   "cell_type": "markdown",
   "metadata": {},
   "source": [
    "## Calculate activity and IOB using bilinear version of activity formula for DIA=5"
   ]
  },
  {
   "cell_type": "code",
   "execution_count": null,
   "metadata": {
    "collapsed": true
   },
   "outputs": [],
   "source": [
    "def calc_activity(dia):\n",
    "    \n",
    "    peak = 75 # minutes\n",
    "    end = 180 # minutes\n",
    "    \n",
    "    x_list = []\n",
    "    activity_list = [] \n",
    "    \n",
    "    for i_min in range(0, (dia * 60) + 1):  # Add 1 to get plot at the last minute\n",
    "        \n",
    "        i_min = i_min * 3.0 / dia\n",
    "        \n",
    "        if (i_min < peak):\n",
    "            x = (i_min / 5) + 1.0\n",
    "            x_list.append(x)\n",
    "            \n",
    "            activity = (2.0 / dia / 60 / peak) * i_min  # Note: 2.0 needs a decimal representation to cast activity into a float.\n",
    "            activity_list.append(activity)\n",
    "            \n",
    "        elif (i_min < end + 1):             # Add 1 to get plot at the last minute\n",
    "            x = (i_min - peak) / 5 # Also, why / 5? Is this b/c the coefficients were estimated in 5 min intervals?\n",
    "            x_list.append(x)\n",
    "            \n",
    "            activity = (2.0 / dia / 60 - (i_min - peak) * 2 / dia / 60 / (60 * 3 - peak))\n",
    "            activity_list.append(activity)\n",
    "    \n",
    "    return x_list, activity_list   "
   ]
  },
  {
   "cell_type": "code",
   "execution_count": null,
   "metadata": {
    "collapsed": true
   },
   "outputs": [],
   "source": [
    "# Create a dictionary of DataFrames -- one for each value of DIA between 2 and 8\n",
    "dict_of_dfs_by_dia = {}\n",
    "\n",
    "for dia in range(2, 9):                           # Note: range() ends at n-1\n",
    "    x_list, activity_list = calc_activity(dia)\n",
    "    activity_df = pd.DataFrame({'x' : x_list, 'activity_dia_' + str(dia) : activity_list})\n",
    "    \n",
    "    # Add a cummulative sum column for activity\n",
    "    activity_df['cum_activity_dia_' + str(dia)] = activity_df['activity_dia_' + str(dia)].cumsum()\n",
    "   \n",
    "    # Put df into a dictionary with dia as the key\n",
    "    dict_of_dfs_by_dia.update({dia : activity_df})"
   ]
  },
  {
   "cell_type": "code",
   "execution_count": null,
   "metadata": {
    "collapsed": false
   },
   "outputs": [],
   "source": [
    "dict_of_dfs_by_dia[5].head()"
   ]
  },
  {
   "cell_type": "code",
   "execution_count": null,
   "metadata": {
    "collapsed": false
   },
   "outputs": [],
   "source": [
    "dict_of_dfs_by_dia[5].tail()"
   ]
  },
  {
   "cell_type": "markdown",
   "metadata": {},
   "source": [
    "## Plot the Activity Curve, DIA = 5"
   ]
  },
  {
   "cell_type": "code",
   "execution_count": null,
   "metadata": {
    "collapsed": false
   },
   "outputs": [],
   "source": [
    "# Plot activity curve for just (dia == 5)\n",
    "plt.figure(figsize=(8, 5))\n",
    "plt.ylabel('Percent of\\nInsulin Used Each Minute', fontsize=12)\n",
    "plt.xlabel('Minutes', fontsize=12)\n",
    "plt.suptitle('OpenAPS \"activity\" Curves, Bilinear vs. Exponential', fontsize=14, fontweight='bold')\n",
    "\n",
    "markers = [75]\n",
    "bilinear_marker = [125]\n",
    "\n",
    "act_3_pct = dict_of_dfs_by_dia[3]['activity_dia_3'] * 100\n",
    "act_3_pct.plot(kind='line', label='bilinear, DIA=3', color='g', markevery=markers, marker='D').grid(True)\n",
    "\n",
    "act_5_pct = dict_of_dfs_by_dia[5]['activity_dia_5'] * 100\n",
    "act_5_pct.plot(kind='line', label='bilinear, DIA=5', color='c', markevery=bilinear_marker, marker='D').grid(True)\n",
    "\n",
    "act_75_pct = dict_of_dfs_by_peak[75]['activity_peak_75'] * 100\n",
    "act_75_pct.plot(kind='line', \n",
    "                label='exponential, DIA=5, peak=75', \n",
    "                color='#fc8d62', \n",
    "                linewidth=2,\n",
    "                markevery=markers, \n",
    "                marker='D').grid(True)\n",
    "\n",
    "                #markersize=6,\n",
    "                #markeredgecolor='k',\n",
    "                #markeredgewidth=1.0\n",
    "\n",
    "plt.tick_params(axis='both', top='off', right='off', direction='out', pad=5, width=1)\n",
    "\n",
    "plt.xlim([0,500])\n",
    "plt.ylim([0,1.2])\n",
    "\n",
    "plt.legend(bbox_to_anchor=(0.95, 0.87), loc=1, borderaxespad=0.0, numpoints=1)\n",
    "\n",
    "plt.savefig('..\\output\\OpenAPS_activity_curves_bilinear_vs_exponential.png', format='png', dpi=600)\n",
    "\n",
    "plt.show()"
   ]
  },
  {
   "cell_type": "code",
   "execution_count": null,
   "metadata": {
    "collapsed": false
   },
   "outputs": [],
   "source": [
    "# Plot activity curve for just (dia == 5)\n",
    "plt.figure(figsize=(8, 5))\n",
    "plt.ylabel('Percent of\\nInsulin Used Each Minute', fontsize=12)\n",
    "plt.xlabel('Minutes', fontsize=12)\n",
    "plt.suptitle('OpenAPS \"activity\" Curves, Bilinear vs. Exponential, DIA=5', fontsize=14, fontweight='bold')\n",
    "\n",
    "markers = [125]\n",
    "\n",
    "act_5_pct = dict_of_dfs_by_dia[5]['activity_dia_5'] * 100\n",
    "act_5_pct.plot(kind='line', \n",
    "               label='bilinear, DIA=5 (peak=125)', \n",
    "               color='c', \n",
    "               markevery=bilinear_marker, \n",
    "               marker='D').grid(True)\n",
    "\n",
    "act_75_pct = dict_of_dfs_by_peak[125]['activity_peak_125'] * 100\n",
    "act_75_pct.plot(kind='line', \n",
    "                label='exponential, DIA=5, peak=125', \n",
    "                color='#fc8d62', \n",
    "                linewidth=2,\n",
    "                markevery=markers, \n",
    "                marker='D').grid(True)\n",
    "\n",
    "plt.tick_params(axis='both', top='off', right='off', direction='out', pad=5, width=1)\n",
    "\n",
    "plt.xlim([0,500])\n",
    "plt.ylim([0,1.2])\n",
    "\n",
    "plt.legend(bbox_to_anchor=(0.95, 0.91), loc=1, borderaxespad=0.0, numpoints=1)\n",
    "\n",
    "plt.savefig('..\\output\\OpenAPS_activity_curves_bilinear_vs_exponential_dia_5.png', format='png', dpi=600)\n",
    "\n",
    "plt.show()"
   ]
  },
  {
   "cell_type": "markdown",
   "metadata": {},
   "source": [
    "## Calculate IOB based on bilinear \"curves\", for DIA=5"
   ]
  },
  {
   "cell_type": "code",
   "execution_count": null,
   "metadata": {
    "collapsed": true
   },
   "outputs": [],
   "source": [
    "def calc_IOB(dia):\n",
    "    \n",
    "    # Coefficients used in estimating the percent of insulin remaining, or (alternatively) the insulin action/decay curve.\n",
    "    # Coeff[0] = alpha * 1\n",
    "    # Coeff[1] = beta1 * x^2\n",
    "    # Coeff[2] = beta2 * x\n",
    "    insulin_action_coeffs = [[1.000000, -0.001852, 0.001852],   # Applied between [0,peak)\n",
    "                             [0.555560, 0.001323, -0.054233]]   # Applied between [peak,end]\n",
    "    # Source: ?????\n",
    "    \n",
    "    peak = 75\n",
    "    end = 180\n",
    "    \n",
    "    x_list = []\n",
    "    iob_list = [] \n",
    "    act_list = []\n",
    "    \n",
    "    for i_min in range(0, dia * 60):\n",
    "        \n",
    "        if (i_min > 0):\n",
    "            i_min_minus1 = i_min - 1\n",
    "        else:\n",
    "            i_min_minus1 = i_min\n",
    "            \n",
    "        i_min = i_min * 3.0 / dia\n",
    "        i_min_minus1 = i_min_minus1 * 3.0 / dia\n",
    "        \n",
    "        if (i_min < peak):\n",
    "            x = (i_min / 5) + 1 # Why + 1? Should there be a (i_min == 0) condition that returns iob_pct = 1?\n",
    "            x_list.append(x)\n",
    "            \n",
    "            # Calculation used in OpenAPS\n",
    "            iob_pct = (insulin_action_coeffs[0][0] + insulin_action_coeffs[0][1] * x**2 + insulin_action_coeffs[0][2] * x)\n",
    "            iob_list.append(iob_pct)\n",
    "            \n",
    "            x_minus1 = (i_min_minus1 / 5) + 1\n",
    "            \n",
    "            # Calculation of 'activity' based on IOBt-1 - IOBt\n",
    "            act = (insulin_action_coeffs[0][0] + insulin_action_coeffs[0][1] * x_minus1**2 + insulin_action_coeffs[0][2] * x_minus1) - iob_pct\n",
    "            act_list.append(act)\n",
    "            \n",
    "        elif (i_min < end):\n",
    "            x = (i_min - peak) / 5 # Also, why / 5? Is this just b/c the coefficients were estimated in 5 min intervals?\n",
    "            x_list.append(x)\n",
    "            \n",
    "            iob_pct = insulin_action_coeffs[1][0] + insulin_action_coeffs[1][1] * x**2 + insulin_action_coeffs[1][2] * x\n",
    "            iob_list.append(iob_pct)\n",
    "\n",
    "            x_minus1 = (i_min_minus1 - peak) / 5 \n",
    "            \n",
    "            act = (insulin_action_coeffs[1][0] + insulin_action_coeffs[1][1] * x_minus1**2 + insulin_action_coeffs[1][2] * x_minus1) - iob_pct\n",
    "            act_list.append(act)\n",
    "    \n",
    "    return x_list, iob_list, act_list   "
   ]
  },
  {
   "cell_type": "code",
   "execution_count": null,
   "metadata": {
    "collapsed": false
   },
   "outputs": [],
   "source": [
    "# Create a dictionary of DataFrames -- one for each value of DIA between 2 and 8\n",
    "dict_of_iob_dfs_by_dia = {}\n",
    "\n",
    "for dia in range(2, 9):                           # NB: range() ends at n-1\n",
    "    x_list, iob_list, act_list = calc_IOB(dia)\n",
    "    iob_df = pd.DataFrame({'x' : x_list, 'iob_pct_dia_' + str(dia) : iob_list, 'activity_dia_' + str(dia) : act_list})\n",
    "    dict_of_iob_dfs_by_dia.update({dia : iob_df})"
   ]
  },
  {
   "cell_type": "code",
   "execution_count": null,
   "metadata": {
    "collapsed": false
   },
   "outputs": [],
   "source": [
    "# Now plot the curves\n",
    "plt.figure(figsize=(8, 5))\n",
    "\n",
    "plt.ylabel('Percent of\\nInsulin Remaining', fontsize=12)\n",
    "plt.xlabel('Minutes', fontsize=12)\n",
    "plt.suptitle('OpenAPS IOB Curves, Bilinear vs. Exponential', fontsize=14, fontweight='bold')\n",
    "\n",
    "markers = [61, 121]\n",
    "\n",
    "iob_pct_5 = dict_of_iob_dfs_by_dia[5]['iob_pct_dia_5'] * 100\n",
    "iob_pct_5.plot(kind='line', label='bilinear, DIA=5', color='c', markevery=markers, marker='D').grid(True)\n",
    "\n",
    "iob_exp_5_75 = dict_of_dfs_by_peak[75]['iob_peak_75'] * 100\n",
    "iob_exp_5_75.plot(kind='line', \n",
    "                  label='exponential, DIA=5, peak=75', \n",
    "                  color='#fc8d62',\n",
    "                  linewidth=2,\n",
    "                  markevery=markers, \n",
    "                  marker='D').grid(True)\n",
    "\n",
    "plt.tick_params(axis='both', top='off', right='off', direction='out', pad=5, width=1)\n",
    "\n",
    "plt.text(72, 85, 'At 60 min., bilinear has 89 percent of insulin remaining and\\n exponential has 76 percent remaining.' , fontsize=11)\n",
    "plt.text(130, 57, 'At 120 min., bilinear 58 percent of insulin remaining and\\n exponential has 41 percent remaining.' , fontsize=11)\n",
    "\n",
    "\n",
    "plt.legend(bbox_to_anchor=(0.97, 0.28), loc=1, borderaxespad=0.0, numpoints=1)\n",
    "plt.savefig('..\\output\\OpenAPS_iob_curves_bilinear_vs_exponential.png', format='png', dpi=600)\n",
    "\n",
    "plt.xlim([0,500])\n",
    "plt.ylim([0,100])\n",
    "\n",
    "plt.show()   "
   ]
  },
  {
   "cell_type": "code",
   "execution_count": null,
   "metadata": {
    "collapsed": false
   },
   "outputs": [],
   "source": [
    "# Activity using exponential curve (dia=5, peak=75) at 60 minutes\n",
    "dict_of_dfs_by_peak[75].iloc[61, :]"
   ]
  },
  {
   "cell_type": "code",
   "execution_count": null,
   "metadata": {
    "collapsed": false
   },
   "outputs": [],
   "source": [
    "# Activity using exponentical curve (dia=5, peak=75) at 120 minutes\n",
    "dict_of_dfs_by_peak[75].iloc[121, :]"
   ]
  },
  {
   "cell_type": "code",
   "execution_count": null,
   "metadata": {
    "collapsed": false
   },
   "outputs": [],
   "source": [
    "# Activity using bilinear curve (dia=5) at 160 minutes\n",
    "dict_of_iob_dfs_by_dia[5].iloc[61, :]"
   ]
  },
  {
   "cell_type": "code",
   "execution_count": null,
   "metadata": {
    "collapsed": false
   },
   "outputs": [],
   "source": [
    "# Activity using bilinear curve (dia=5) at 120 minutes\n",
    "dict_of_iob_dfs_by_dia[5].iloc[121, :]"
   ]
  },
  {
   "cell_type": "markdown",
   "metadata": {},
   "source": [
    "# The End!!!"
   ]
  }
 ],
 "metadata": {
  "kernelspec": {
   "display_name": "Python 2",
   "language": "python",
   "name": "python2"
  },
  "language_info": {
   "codemirror_mode": {
    "name": "ipython",
    "version": 2
   },
   "file_extension": ".py",
   "mimetype": "text/x-python",
   "name": "python",
   "nbconvert_exporter": "python",
   "pygments_lexer": "ipython2",
   "version": "2.7.11"
  }
 },
 "nbformat": 4,
 "nbformat_minor": 0
}
