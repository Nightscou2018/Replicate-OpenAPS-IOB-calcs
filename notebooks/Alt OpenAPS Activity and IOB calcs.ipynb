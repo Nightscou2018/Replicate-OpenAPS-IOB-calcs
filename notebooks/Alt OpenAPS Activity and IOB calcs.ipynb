{
 "cells": [
  {
   "cell_type": "markdown",
   "metadata": {},
   "source": [
    "OpenAPS Activity Calculations\n",
    "The code in this notebook will replicate and visualize the calculation of Activity used in the OpenAPS project.\n",
    "Activity is an estimate of the change in IOB.\n",
    "Specifically, it will replicate the javascript code found in OpenAPS/oref0/lib/iob/calculation.js and plot the Activity curves for a set of Duration of Insulin Activity (dia) values."
   ]
  },
  {
   "cell_type": "code",
   "execution_count": 1,
   "metadata": {
    "collapsed": true
   },
   "outputs": [],
   "source": [
    "import pandas as pd\n",
    "import matplotlib.pyplot as plt\n",
    "%matplotlib inline"
   ]
  },
  {
   "cell_type": "code",
   "execution_count": null,
   "metadata": {
    "collapsed": true
   },
   "outputs": [],
   "source": [
    "def calc_activity_and_iob(dia):\n",
    "    \n",
    "    peak = 75\n",
    "    end = 180\n",
    "    \n",
    "    x_list = []\n",
    "    activity_list = [] \n",
    "    \n",
    "    for i_min in range(0, dia * 60):\n",
    "        \n",
    "        i_min = i_min * 3.0 / dia\n",
    "        \n",
    "        if (i_min < peak):\n",
    "            x = (i_min / 5) + 1 # Why + 1? Should there be a i_min = 0 condition that returns iob_pct = 1?\n",
    "            x_list.append(x)\n",
    "            activity = (2 / dia / 60 / peak) * i_min\n",
    "            activity_list.append(activity)\n",
    "        elif (i_min < end):\n",
    "            x = (i_min - peak) / 5 # Also, why / 5? Is this just b/c the coefficients were estimated in 5 min intervals?\n",
    "            x_list.append(x)\n",
    "            activity = (2 / dia / 60 - (i_min - peak) * 2 / dia / 60 / (60 * 3 - peak))\n",
    "            activity_list.append(activity)\n",
    "    \n",
    "    return x_list, activity_list   "
   ]
  }
 ],
 "metadata": {
  "kernelspec": {
   "display_name": "Python 3",
   "language": "python",
   "name": "python3"
  },
  "language_info": {
   "codemirror_mode": {
    "name": "ipython",
    "version": 3
   },
   "file_extension": ".py",
   "mimetype": "text/x-python",
   "name": "python",
   "nbconvert_exporter": "python",
   "pygments_lexer": "ipython3",
   "version": "3.5.1"
  }
 },
 "nbformat": 4,
 "nbformat_minor": 0
}
