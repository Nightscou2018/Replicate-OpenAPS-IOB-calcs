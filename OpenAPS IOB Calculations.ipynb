{
 "cells": [
  {
   "cell_type": "markdown",
   "metadata": {},
   "source": [
    "# OpenAPS IOB Calculations\n",
    "----\n",
    "The code in this notebook will replicate and visualize the IOB calculations used in the [OpenAPS project](https://github.com/openaps/oref0).\n",
    "\n",
    "Specifically, it will replicate the javascript code found in [`OpenAPS/oref0/lib/iob/calculation.js`](https://github.com/openaps/oref0/blob/master/lib/iob/calculate.js) and plot insulin action curves for a set of Duration of Insulin Activity (`dia`) values.\n"
   ]
  },
  {
   "cell_type": "code",
   "execution_count": 31,
   "metadata": {
    "collapsed": true
   },
   "outputs": [],
   "source": [
    "import pandas as pd\n",
    "import matplotlib.pyplot as plt\n",
    "%matplotlib inline"
   ]
  },
  {
   "cell_type": "code",
   "execution_count": 2,
   "metadata": {
    "collapsed": false
   },
   "outputs": [],
   "source": [
    "# Coefficients used in estimating the percent of insulin remaining, or (alternatively) the insulin action/decay curve.\n",
    "# Coeff[0] = alpha * 1\n",
    "# Coeff[1] = beta1 * x^2\n",
    "# Coeff[2] = beta2 * x\n",
    "insulin_action_coeffs = [[1.000000, -0.001852, 0.001852],   # Applied between [0,peak)\n",
    "                         [0.555560, 0.001323, -0.054233]]   # Applied between [peak,end)"
   ]
  },
  {
   "cell_type": "code",
   "execution_count": 17,
   "metadata": {
    "collapsed": false
   },
   "outputs": [],
   "source": [
    "def calc_IOB(dia):\n",
    "    \n",
    "    # Default to 3 hour Duration of Insulin Activity (dia), \n",
    "    # but scale peak and end for longer (or shorter) dia values\n",
    "    dia_scaler = dia / 3.0\n",
    "    peak = 75 * dia_scaler\n",
    "    end = 180 * dia_scaler\n",
    "    \n",
    "    iob = {} \n",
    "    \n",
    "    for i_min in range(0, int(end)):\n",
    "    \n",
    "        if (i_min < peak):\n",
    "            x = (i_min / 5) + 1\n",
    "            iob_pct = insulin_action_coeffs[0][0] + insulin_action_coeffs[0][1] * x**2 + insulin_action_coeffs[0][2] * x\n",
    "        elif (i_min < end):\n",
    "            y = (i_min - peak) / 5\n",
    "            iob_pct = insulin_action_coeffs[1][0] + insulin_action_coeffs[1][1] * y**2 + insulin_action_coeffs[1][2] * y\n",
    "        elif (i_min >= end):\n",
    "            iob_pct = 0\n",
    "    \n",
    "        iob.update({i_min: iob_pct})\n",
    "    \n",
    "    return iob   "
   ]
  },
  {
   "cell_type": "code",
   "execution_count": 18,
   "metadata": {
    "collapsed": false
   },
   "outputs": [],
   "source": [
    "iob_dia3 = calc_IOB(3)"
   ]
  },
  {
   "cell_type": "code",
   "execution_count": 28,
   "metadata": {
    "collapsed": false
   },
   "outputs": [],
   "source": [
    " iob_df = pd.DataFrame(list(iob_dia3.items())) "
   ]
  },
  {
   "cell_type": "code",
   "execution_count": 36,
   "metadata": {
    "collapsed": false
   },
   "outputs": [
    {
     "data": {
      "text/html": [
       "<div>\n",
       "<table border=\"1\" class=\"dataframe\">\n",
       "  <thead>\n",
       "    <tr style=\"text-align: right;\">\n",
       "      <th></th>\n",
       "      <th>min</th>\n",
       "      <th>iob_pct</th>\n",
       "    </tr>\n",
       "  </thead>\n",
       "  <tbody>\n",
       "    <tr>\n",
       "      <th>0</th>\n",
       "      <td>0</td>\n",
       "      <td>1.000000</td>\n",
       "    </tr>\n",
       "    <tr>\n",
       "      <th>1</th>\n",
       "      <td>1</td>\n",
       "      <td>0.999556</td>\n",
       "    </tr>\n",
       "    <tr>\n",
       "      <th>2</th>\n",
       "      <td>2</td>\n",
       "      <td>0.998963</td>\n",
       "    </tr>\n",
       "    <tr>\n",
       "      <th>3</th>\n",
       "      <td>3</td>\n",
       "      <td>0.998222</td>\n",
       "    </tr>\n",
       "    <tr>\n",
       "      <th>4</th>\n",
       "      <td>4</td>\n",
       "      <td>0.997333</td>\n",
       "    </tr>\n",
       "  </tbody>\n",
       "</table>\n",
       "</div>"
      ],
      "text/plain": [
       "   min   iob_pct\n",
       "0    0  1.000000\n",
       "1    1  0.999556\n",
       "2    2  0.998963\n",
       "3    3  0.998222\n",
       "4    4  0.997333"
      ]
     },
     "execution_count": 36,
     "metadata": {},
     "output_type": "execute_result"
    }
   ],
   "source": [
    "iob_df.columns=(\"min\", \"iob_pct\")\n",
    "iob_df.head()"
   ]
  },
  {
   "cell_type": "code",
   "execution_count": 38,
   "metadata": {
    "collapsed": false
   },
   "outputs": [
    {
     "data": {
      "image/png": "[encoded data removed]",
      "text/plain": [
       "<matplotlib.figure.Figure at 0x22dcfcbd240>"
      ]
     },
     "metadata": {},
     "output_type": "display_data"
    }
   ],
   "source": [
    "my_plot = iob_df['iob_pct'].plot(kind='line')"
   ]
  },
  {
   "cell_type": "code",
   "execution_count": null,
   "metadata": {
    "collapsed": true
   },
   "outputs": [],
   "source": []
  }
 ],
 "metadata": {
  "kernelspec": {
   "display_name": "Python 3",
   "language": "python",
   "name": "python3"
  },
  "language_info": {
   "codemirror_mode": {
    "name": "ipython",
    "version": 3
   },
   "file_extension": ".py",
   "mimetype": "text/x-python",
   "name": "python",
   "nbconvert_exporter": "python",
   "pygments_lexer": "ipython3",
   "version": "3.5.1"
  }
 },
 "nbformat": 4,
 "nbformat_minor": 0
}
